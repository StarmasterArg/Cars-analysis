{
 "cells": [
  {
   "cell_type": "code",
   "execution_count": 1,
   "metadata": {},
   "outputs": [
    {
     "data": {
      "text/html": [
       "<div>\n",
       "<style scoped>\n",
       "    .dataframe tbody tr th:only-of-type {\n",
       "        vertical-align: middle;\n",
       "    }\n",
       "\n",
       "    .dataframe tbody tr th {\n",
       "        vertical-align: top;\n",
       "    }\n",
       "\n",
       "    .dataframe thead th {\n",
       "        text-align: right;\n",
       "    }\n",
       "</style>\n",
       "<table border=\"1\" class=\"dataframe\">\n",
       "  <thead>\n",
       "    <tr style=\"text-align: right;\">\n",
       "      <th></th>\n",
       "      <th>0</th>\n",
       "      <th>1</th>\n",
       "      <th>2</th>\n",
       "      <th>3</th>\n",
       "      <th>4</th>\n",
       "      <th>5</th>\n",
       "      <th>6</th>\n",
       "      <th>7</th>\n",
       "      <th>8</th>\n",
       "      <th>9</th>\n",
       "      <th>...</th>\n",
       "      <th>16</th>\n",
       "      <th>17</th>\n",
       "      <th>18</th>\n",
       "      <th>19</th>\n",
       "      <th>20</th>\n",
       "      <th>21</th>\n",
       "      <th>22</th>\n",
       "      <th>23</th>\n",
       "      <th>24</th>\n",
       "      <th>25</th>\n",
       "    </tr>\n",
       "  </thead>\n",
       "  <tbody>\n",
       "    <tr>\n",
       "      <th>0</th>\n",
       "      <td>3</td>\n",
       "      <td>?</td>\n",
       "      <td>alfa-romero</td>\n",
       "      <td>gas</td>\n",
       "      <td>std</td>\n",
       "      <td>two</td>\n",
       "      <td>convertible</td>\n",
       "      <td>rwd</td>\n",
       "      <td>front</td>\n",
       "      <td>88.6</td>\n",
       "      <td>...</td>\n",
       "      <td>130</td>\n",
       "      <td>mpfi</td>\n",
       "      <td>3.47</td>\n",
       "      <td>2.68</td>\n",
       "      <td>9.0</td>\n",
       "      <td>111</td>\n",
       "      <td>5000</td>\n",
       "      <td>21</td>\n",
       "      <td>27</td>\n",
       "      <td>13495</td>\n",
       "    </tr>\n",
       "    <tr>\n",
       "      <th>1</th>\n",
       "      <td>3</td>\n",
       "      <td>?</td>\n",
       "      <td>alfa-romero</td>\n",
       "      <td>gas</td>\n",
       "      <td>std</td>\n",
       "      <td>two</td>\n",
       "      <td>convertible</td>\n",
       "      <td>rwd</td>\n",
       "      <td>front</td>\n",
       "      <td>88.6</td>\n",
       "      <td>...</td>\n",
       "      <td>130</td>\n",
       "      <td>mpfi</td>\n",
       "      <td>3.47</td>\n",
       "      <td>2.68</td>\n",
       "      <td>9.0</td>\n",
       "      <td>111</td>\n",
       "      <td>5000</td>\n",
       "      <td>21</td>\n",
       "      <td>27</td>\n",
       "      <td>16500</td>\n",
       "    </tr>\n",
       "    <tr>\n",
       "      <th>2</th>\n",
       "      <td>1</td>\n",
       "      <td>?</td>\n",
       "      <td>alfa-romero</td>\n",
       "      <td>gas</td>\n",
       "      <td>std</td>\n",
       "      <td>two</td>\n",
       "      <td>hatchback</td>\n",
       "      <td>rwd</td>\n",
       "      <td>front</td>\n",
       "      <td>94.5</td>\n",
       "      <td>...</td>\n",
       "      <td>152</td>\n",
       "      <td>mpfi</td>\n",
       "      <td>2.68</td>\n",
       "      <td>3.47</td>\n",
       "      <td>9.0</td>\n",
       "      <td>154</td>\n",
       "      <td>5000</td>\n",
       "      <td>19</td>\n",
       "      <td>26</td>\n",
       "      <td>16500</td>\n",
       "    </tr>\n",
       "    <tr>\n",
       "      <th>3</th>\n",
       "      <td>2</td>\n",
       "      <td>164</td>\n",
       "      <td>audi</td>\n",
       "      <td>gas</td>\n",
       "      <td>std</td>\n",
       "      <td>four</td>\n",
       "      <td>sedan</td>\n",
       "      <td>fwd</td>\n",
       "      <td>front</td>\n",
       "      <td>99.8</td>\n",
       "      <td>...</td>\n",
       "      <td>109</td>\n",
       "      <td>mpfi</td>\n",
       "      <td>3.19</td>\n",
       "      <td>3.40</td>\n",
       "      <td>10.0</td>\n",
       "      <td>102</td>\n",
       "      <td>5500</td>\n",
       "      <td>24</td>\n",
       "      <td>30</td>\n",
       "      <td>13950</td>\n",
       "    </tr>\n",
       "    <tr>\n",
       "      <th>4</th>\n",
       "      <td>2</td>\n",
       "      <td>164</td>\n",
       "      <td>audi</td>\n",
       "      <td>gas</td>\n",
       "      <td>std</td>\n",
       "      <td>four</td>\n",
       "      <td>sedan</td>\n",
       "      <td>4wd</td>\n",
       "      <td>front</td>\n",
       "      <td>99.4</td>\n",
       "      <td>...</td>\n",
       "      <td>136</td>\n",
       "      <td>mpfi</td>\n",
       "      <td>3.19</td>\n",
       "      <td>3.40</td>\n",
       "      <td>8.0</td>\n",
       "      <td>115</td>\n",
       "      <td>5500</td>\n",
       "      <td>18</td>\n",
       "      <td>22</td>\n",
       "      <td>17450</td>\n",
       "    </tr>\n",
       "  </tbody>\n",
       "</table>\n",
       "<p>5 rows × 26 columns</p>\n",
       "</div>"
      ],
      "text/plain": [
       "   0    1            2    3    4     5            6    7      8     9   ...    \\\n",
       "0   3    ?  alfa-romero  gas  std   two  convertible  rwd  front  88.6  ...     \n",
       "1   3    ?  alfa-romero  gas  std   two  convertible  rwd  front  88.6  ...     \n",
       "2   1    ?  alfa-romero  gas  std   two    hatchback  rwd  front  94.5  ...     \n",
       "3   2  164         audi  gas  std  four        sedan  fwd  front  99.8  ...     \n",
       "4   2  164         audi  gas  std  four        sedan  4wd  front  99.4  ...     \n",
       "\n",
       "    16    17    18    19    20   21    22  23  24     25  \n",
       "0  130  mpfi  3.47  2.68   9.0  111  5000  21  27  13495  \n",
       "1  130  mpfi  3.47  2.68   9.0  111  5000  21  27  16500  \n",
       "2  152  mpfi  2.68  3.47   9.0  154  5000  19  26  16500  \n",
       "3  109  mpfi  3.19  3.40  10.0  102  5500  24  30  13950  \n",
       "4  136  mpfi  3.19  3.40   8.0  115  5500  18  22  17450  \n",
       "\n",
       "[5 rows x 26 columns]"
      ]
     },
     "execution_count": 1,
     "metadata": {},
     "output_type": "execute_result"
    }
   ],
   "source": [
    "import pandas as pd\n",
    "\n",
    "autos = pd.read_csv(\"imports-85.csv.data\",header=None)\n",
    "\n",
    "autos.head()\n"
   ]
  },
  {
   "cell_type": "code",
   "execution_count": 2,
   "metadata": {},
   "outputs": [
    {
     "data": {
      "text/html": [
       "<div>\n",
       "<style scoped>\n",
       "    .dataframe tbody tr th:only-of-type {\n",
       "        vertical-align: middle;\n",
       "    }\n",
       "\n",
       "    .dataframe tbody tr th {\n",
       "        vertical-align: top;\n",
       "    }\n",
       "\n",
       "    .dataframe thead th {\n",
       "        text-align: right;\n",
       "    }\n",
       "</style>\n",
       "<table border=\"1\" class=\"dataframe\">\n",
       "  <thead>\n",
       "    <tr style=\"text-align: right;\">\n",
       "      <th></th>\n",
       "      <th>symbolling</th>\n",
       "      <th>normalized_looses</th>\n",
       "      <th>make</th>\n",
       "      <th>fuel_type</th>\n",
       "      <th>aspiration</th>\n",
       "      <th>num_of_doors</th>\n",
       "      <th>body_type</th>\n",
       "      <th>drive_wheels</th>\n",
       "      <th>engine_location</th>\n",
       "      <th>wheel_base</th>\n",
       "      <th>...</th>\n",
       "      <th>engine_size</th>\n",
       "      <th>fuel_system</th>\n",
       "      <th>bore</th>\n",
       "      <th>stroke</th>\n",
       "      <th>compresion_ratio</th>\n",
       "      <th>horsepower_power</th>\n",
       "      <th>peak_rpm</th>\n",
       "      <th>city_mpg</th>\n",
       "      <th>highway_mpg</th>\n",
       "      <th>price</th>\n",
       "    </tr>\n",
       "  </thead>\n",
       "  <tbody>\n",
       "    <tr>\n",
       "      <th>0</th>\n",
       "      <td>3</td>\n",
       "      <td>?</td>\n",
       "      <td>alfa-romero</td>\n",
       "      <td>gas</td>\n",
       "      <td>std</td>\n",
       "      <td>two</td>\n",
       "      <td>convertible</td>\n",
       "      <td>rwd</td>\n",
       "      <td>front</td>\n",
       "      <td>88.6</td>\n",
       "      <td>...</td>\n",
       "      <td>130</td>\n",
       "      <td>mpfi</td>\n",
       "      <td>3.47</td>\n",
       "      <td>2.68</td>\n",
       "      <td>9.0</td>\n",
       "      <td>111</td>\n",
       "      <td>5000</td>\n",
       "      <td>21</td>\n",
       "      <td>27</td>\n",
       "      <td>13495</td>\n",
       "    </tr>\n",
       "    <tr>\n",
       "      <th>1</th>\n",
       "      <td>3</td>\n",
       "      <td>?</td>\n",
       "      <td>alfa-romero</td>\n",
       "      <td>gas</td>\n",
       "      <td>std</td>\n",
       "      <td>two</td>\n",
       "      <td>convertible</td>\n",
       "      <td>rwd</td>\n",
       "      <td>front</td>\n",
       "      <td>88.6</td>\n",
       "      <td>...</td>\n",
       "      <td>130</td>\n",
       "      <td>mpfi</td>\n",
       "      <td>3.47</td>\n",
       "      <td>2.68</td>\n",
       "      <td>9.0</td>\n",
       "      <td>111</td>\n",
       "      <td>5000</td>\n",
       "      <td>21</td>\n",
       "      <td>27</td>\n",
       "      <td>16500</td>\n",
       "    </tr>\n",
       "    <tr>\n",
       "      <th>2</th>\n",
       "      <td>1</td>\n",
       "      <td>?</td>\n",
       "      <td>alfa-romero</td>\n",
       "      <td>gas</td>\n",
       "      <td>std</td>\n",
       "      <td>two</td>\n",
       "      <td>hatchback</td>\n",
       "      <td>rwd</td>\n",
       "      <td>front</td>\n",
       "      <td>94.5</td>\n",
       "      <td>...</td>\n",
       "      <td>152</td>\n",
       "      <td>mpfi</td>\n",
       "      <td>2.68</td>\n",
       "      <td>3.47</td>\n",
       "      <td>9.0</td>\n",
       "      <td>154</td>\n",
       "      <td>5000</td>\n",
       "      <td>19</td>\n",
       "      <td>26</td>\n",
       "      <td>16500</td>\n",
       "    </tr>\n",
       "    <tr>\n",
       "      <th>3</th>\n",
       "      <td>2</td>\n",
       "      <td>164</td>\n",
       "      <td>audi</td>\n",
       "      <td>gas</td>\n",
       "      <td>std</td>\n",
       "      <td>four</td>\n",
       "      <td>sedan</td>\n",
       "      <td>fwd</td>\n",
       "      <td>front</td>\n",
       "      <td>99.8</td>\n",
       "      <td>...</td>\n",
       "      <td>109</td>\n",
       "      <td>mpfi</td>\n",
       "      <td>3.19</td>\n",
       "      <td>3.40</td>\n",
       "      <td>10.0</td>\n",
       "      <td>102</td>\n",
       "      <td>5500</td>\n",
       "      <td>24</td>\n",
       "      <td>30</td>\n",
       "      <td>13950</td>\n",
       "    </tr>\n",
       "    <tr>\n",
       "      <th>4</th>\n",
       "      <td>2</td>\n",
       "      <td>164</td>\n",
       "      <td>audi</td>\n",
       "      <td>gas</td>\n",
       "      <td>std</td>\n",
       "      <td>four</td>\n",
       "      <td>sedan</td>\n",
       "      <td>4wd</td>\n",
       "      <td>front</td>\n",
       "      <td>99.4</td>\n",
       "      <td>...</td>\n",
       "      <td>136</td>\n",
       "      <td>mpfi</td>\n",
       "      <td>3.19</td>\n",
       "      <td>3.40</td>\n",
       "      <td>8.0</td>\n",
       "      <td>115</td>\n",
       "      <td>5500</td>\n",
       "      <td>18</td>\n",
       "      <td>22</td>\n",
       "      <td>17450</td>\n",
       "    </tr>\n",
       "  </tbody>\n",
       "</table>\n",
       "<p>5 rows × 26 columns</p>\n",
       "</div>"
      ],
      "text/plain": [
       "   symbolling normalized_looses         make fuel_type aspiration  \\\n",
       "0           3                 ?  alfa-romero       gas        std   \n",
       "1           3                 ?  alfa-romero       gas        std   \n",
       "2           1                 ?  alfa-romero       gas        std   \n",
       "3           2               164         audi       gas        std   \n",
       "4           2               164         audi       gas        std   \n",
       "\n",
       "  num_of_doors    body_type drive_wheels engine_location  wheel_base  ...    \\\n",
       "0          two  convertible          rwd           front        88.6  ...     \n",
       "1          two  convertible          rwd           front        88.6  ...     \n",
       "2          two    hatchback          rwd           front        94.5  ...     \n",
       "3         four        sedan          fwd           front        99.8  ...     \n",
       "4         four        sedan          4wd           front        99.4  ...     \n",
       "\n",
       "   engine_size  fuel_system  bore  stroke compresion_ratio horsepower_power  \\\n",
       "0          130         mpfi  3.47    2.68              9.0              111   \n",
       "1          130         mpfi  3.47    2.68              9.0              111   \n",
       "2          152         mpfi  2.68    3.47              9.0              154   \n",
       "3          109         mpfi  3.19    3.40             10.0              102   \n",
       "4          136         mpfi  3.19    3.40              8.0              115   \n",
       "\n",
       "   peak_rpm city_mpg highway_mpg  price  \n",
       "0      5000       21          27  13495  \n",
       "1      5000       21          27  16500  \n",
       "2      5000       19          26  16500  \n",
       "3      5500       24          30  13950  \n",
       "4      5500       18          22  17450  \n",
       "\n",
       "[5 rows x 26 columns]"
      ]
     },
     "execution_count": 2,
     "metadata": {},
     "output_type": "execute_result"
    }
   ],
   "source": [
    "headers = [\"symbolling\",\"normalized_looses\",\"make\",\"fuel_type\",\"aspiration\",\"num_of_doors\",\"body_type\",\"drive_wheels\",\"engine_location\",\n",
    "          \"wheel_base\",\"lenght\",\"width\",\"height\",\"curb_weight\",\"engine_type\",\"num_cylinders\",\"engine_size\",\"fuel_system\",\n",
    "          \"bore\",\"stroke\",\"compresion_ratio\",\"horsepower_power\",\"peak_rpm\",\"city_mpg\",\"highway_mpg\",\"price\"]\n",
    "\n",
    "autos.columns = headers\n",
    "autos.head()"
   ]
  },
  {
   "cell_type": "code",
   "execution_count": 3,
   "metadata": {},
   "outputs": [],
   "source": [
    "path = r\"C:\\Users\\Lucia y Ariel\\Desktop\\Car prices\\cars.csv\"\n",
    "autos.to_csv(path, index=False)\n"
   ]
  },
  {
   "cell_type": "code",
   "execution_count": 4,
   "metadata": {
    "scrolled": true
   },
   "outputs": [],
   "source": [
    "def info(DataFrame):\n",
    "  \n",
    "  import pandas as pd\n",
    "  \n",
    "  print(\"DataFrame shape =\", DataFrame.shape, '\\n', '\\n', '--------------------------------------------------------', '\\n' )\n",
    "  print(DataFrame.info(),'\\n','\\n','--------------------------------------------------------', '\\n')\n",
    "  DataFrame.head()\n",
    "  \n",
    "  return DataFrame.head()\n",
    "\n"
   ]
  },
  {
   "cell_type": "code",
   "execution_count": 5,
   "metadata": {},
   "outputs": [
    {
     "name": "stdout",
     "output_type": "stream",
     "text": [
      "DataFrame shape = (205, 26) \n",
      " \n",
      " -------------------------------------------------------- \n",
      "\n",
      "<class 'pandas.core.frame.DataFrame'>\n",
      "RangeIndex: 205 entries, 0 to 204\n",
      "Data columns (total 26 columns):\n",
      "symbolling           205 non-null int64\n",
      "normalized_looses    205 non-null object\n",
      "make                 205 non-null object\n",
      "fuel_type            205 non-null object\n",
      "aspiration           205 non-null object\n",
      "num_of_doors         205 non-null object\n",
      "body_type            205 non-null object\n",
      "drive_wheels         205 non-null object\n",
      "engine_location      205 non-null object\n",
      "wheel_base           205 non-null float64\n",
      "lenght               205 non-null float64\n",
      "width                205 non-null float64\n",
      "height               205 non-null float64\n",
      "curb_weight          205 non-null int64\n",
      "engine_type          205 non-null object\n",
      "num_cylinders        205 non-null object\n",
      "engine_size          205 non-null int64\n",
      "fuel_system          205 non-null object\n",
      "bore                 205 non-null object\n",
      "stroke               205 non-null object\n",
      "compresion_ratio     205 non-null float64\n",
      "horsepower_power     205 non-null object\n",
      "peak_rpm             205 non-null object\n",
      "city_mpg             205 non-null int64\n",
      "highway_mpg          205 non-null int64\n",
      "price                205 non-null object\n",
      "dtypes: float64(5), int64(5), object(16)\n",
      "memory usage: 41.7+ KB\n",
      "None \n",
      " \n",
      " -------------------------------------------------------- \n",
      "\n"
     ]
    },
    {
     "data": {
      "text/html": [
       "<div>\n",
       "<style scoped>\n",
       "    .dataframe tbody tr th:only-of-type {\n",
       "        vertical-align: middle;\n",
       "    }\n",
       "\n",
       "    .dataframe tbody tr th {\n",
       "        vertical-align: top;\n",
       "    }\n",
       "\n",
       "    .dataframe thead th {\n",
       "        text-align: right;\n",
       "    }\n",
       "</style>\n",
       "<table border=\"1\" class=\"dataframe\">\n",
       "  <thead>\n",
       "    <tr style=\"text-align: right;\">\n",
       "      <th></th>\n",
       "      <th>symbolling</th>\n",
       "      <th>normalized_looses</th>\n",
       "      <th>make</th>\n",
       "      <th>fuel_type</th>\n",
       "      <th>aspiration</th>\n",
       "      <th>num_of_doors</th>\n",
       "      <th>body_type</th>\n",
       "      <th>drive_wheels</th>\n",
       "      <th>engine_location</th>\n",
       "      <th>wheel_base</th>\n",
       "      <th>...</th>\n",
       "      <th>engine_size</th>\n",
       "      <th>fuel_system</th>\n",
       "      <th>bore</th>\n",
       "      <th>stroke</th>\n",
       "      <th>compresion_ratio</th>\n",
       "      <th>horsepower_power</th>\n",
       "      <th>peak_rpm</th>\n",
       "      <th>city_mpg</th>\n",
       "      <th>highway_mpg</th>\n",
       "      <th>price</th>\n",
       "    </tr>\n",
       "  </thead>\n",
       "  <tbody>\n",
       "    <tr>\n",
       "      <th>0</th>\n",
       "      <td>3</td>\n",
       "      <td>?</td>\n",
       "      <td>alfa-romero</td>\n",
       "      <td>gas</td>\n",
       "      <td>std</td>\n",
       "      <td>two</td>\n",
       "      <td>convertible</td>\n",
       "      <td>rwd</td>\n",
       "      <td>front</td>\n",
       "      <td>88.6</td>\n",
       "      <td>...</td>\n",
       "      <td>130</td>\n",
       "      <td>mpfi</td>\n",
       "      <td>3.47</td>\n",
       "      <td>2.68</td>\n",
       "      <td>9.0</td>\n",
       "      <td>111</td>\n",
       "      <td>5000</td>\n",
       "      <td>21</td>\n",
       "      <td>27</td>\n",
       "      <td>13495</td>\n",
       "    </tr>\n",
       "    <tr>\n",
       "      <th>1</th>\n",
       "      <td>3</td>\n",
       "      <td>?</td>\n",
       "      <td>alfa-romero</td>\n",
       "      <td>gas</td>\n",
       "      <td>std</td>\n",
       "      <td>two</td>\n",
       "      <td>convertible</td>\n",
       "      <td>rwd</td>\n",
       "      <td>front</td>\n",
       "      <td>88.6</td>\n",
       "      <td>...</td>\n",
       "      <td>130</td>\n",
       "      <td>mpfi</td>\n",
       "      <td>3.47</td>\n",
       "      <td>2.68</td>\n",
       "      <td>9.0</td>\n",
       "      <td>111</td>\n",
       "      <td>5000</td>\n",
       "      <td>21</td>\n",
       "      <td>27</td>\n",
       "      <td>16500</td>\n",
       "    </tr>\n",
       "    <tr>\n",
       "      <th>2</th>\n",
       "      <td>1</td>\n",
       "      <td>?</td>\n",
       "      <td>alfa-romero</td>\n",
       "      <td>gas</td>\n",
       "      <td>std</td>\n",
       "      <td>two</td>\n",
       "      <td>hatchback</td>\n",
       "      <td>rwd</td>\n",
       "      <td>front</td>\n",
       "      <td>94.5</td>\n",
       "      <td>...</td>\n",
       "      <td>152</td>\n",
       "      <td>mpfi</td>\n",
       "      <td>2.68</td>\n",
       "      <td>3.47</td>\n",
       "      <td>9.0</td>\n",
       "      <td>154</td>\n",
       "      <td>5000</td>\n",
       "      <td>19</td>\n",
       "      <td>26</td>\n",
       "      <td>16500</td>\n",
       "    </tr>\n",
       "    <tr>\n",
       "      <th>3</th>\n",
       "      <td>2</td>\n",
       "      <td>164</td>\n",
       "      <td>audi</td>\n",
       "      <td>gas</td>\n",
       "      <td>std</td>\n",
       "      <td>four</td>\n",
       "      <td>sedan</td>\n",
       "      <td>fwd</td>\n",
       "      <td>front</td>\n",
       "      <td>99.8</td>\n",
       "      <td>...</td>\n",
       "      <td>109</td>\n",
       "      <td>mpfi</td>\n",
       "      <td>3.19</td>\n",
       "      <td>3.40</td>\n",
       "      <td>10.0</td>\n",
       "      <td>102</td>\n",
       "      <td>5500</td>\n",
       "      <td>24</td>\n",
       "      <td>30</td>\n",
       "      <td>13950</td>\n",
       "    </tr>\n",
       "    <tr>\n",
       "      <th>4</th>\n",
       "      <td>2</td>\n",
       "      <td>164</td>\n",
       "      <td>audi</td>\n",
       "      <td>gas</td>\n",
       "      <td>std</td>\n",
       "      <td>four</td>\n",
       "      <td>sedan</td>\n",
       "      <td>4wd</td>\n",
       "      <td>front</td>\n",
       "      <td>99.4</td>\n",
       "      <td>...</td>\n",
       "      <td>136</td>\n",
       "      <td>mpfi</td>\n",
       "      <td>3.19</td>\n",
       "      <td>3.40</td>\n",
       "      <td>8.0</td>\n",
       "      <td>115</td>\n",
       "      <td>5500</td>\n",
       "      <td>18</td>\n",
       "      <td>22</td>\n",
       "      <td>17450</td>\n",
       "    </tr>\n",
       "  </tbody>\n",
       "</table>\n",
       "<p>5 rows × 26 columns</p>\n",
       "</div>"
      ],
      "text/plain": [
       "   symbolling normalized_looses         make fuel_type aspiration  \\\n",
       "0           3                 ?  alfa-romero       gas        std   \n",
       "1           3                 ?  alfa-romero       gas        std   \n",
       "2           1                 ?  alfa-romero       gas        std   \n",
       "3           2               164         audi       gas        std   \n",
       "4           2               164         audi       gas        std   \n",
       "\n",
       "  num_of_doors    body_type drive_wheels engine_location  wheel_base  ...    \\\n",
       "0          two  convertible          rwd           front        88.6  ...     \n",
       "1          two  convertible          rwd           front        88.6  ...     \n",
       "2          two    hatchback          rwd           front        94.5  ...     \n",
       "3         four        sedan          fwd           front        99.8  ...     \n",
       "4         four        sedan          4wd           front        99.4  ...     \n",
       "\n",
       "   engine_size  fuel_system  bore  stroke compresion_ratio horsepower_power  \\\n",
       "0          130         mpfi  3.47    2.68              9.0              111   \n",
       "1          130         mpfi  3.47    2.68              9.0              111   \n",
       "2          152         mpfi  2.68    3.47              9.0              154   \n",
       "3          109         mpfi  3.19    3.40             10.0              102   \n",
       "4          136         mpfi  3.19    3.40              8.0              115   \n",
       "\n",
       "   peak_rpm city_mpg highway_mpg  price  \n",
       "0      5000       21          27  13495  \n",
       "1      5000       21          27  16500  \n",
       "2      5000       19          26  16500  \n",
       "3      5500       24          30  13950  \n",
       "4      5500       18          22  17450  \n",
       "\n",
       "[5 rows x 26 columns]"
      ]
     },
     "execution_count": 5,
     "metadata": {},
     "output_type": "execute_result"
    }
   ],
   "source": [
    "cars = pd.read_csv(\"cars.csv\")\n",
    "\n",
    "info(cars)"
   ]
  },
  {
   "cell_type": "code",
   "execution_count": 6,
   "metadata": {},
   "outputs": [
    {
     "data": {
      "text/plain": [
       "?        4\n",
       "8921     2\n",
       "18150    2\n",
       "7898     2\n",
       "9279     2\n",
       "5572     2\n",
       "7957     2\n",
       "8495     2\n",
       "7609     2\n",
       "7775     2\n",
       "6692     2\n",
       "6229     2\n",
       "8845     2\n",
       "7295     2\n",
       "16500    2\n",
       "13499    2\n",
       "16515    1\n",
       "15040    1\n",
       "6575     1\n",
       "9960     1\n",
       "22625    1\n",
       "7603     1\n",
       "8449     1\n",
       "9095     1\n",
       "11845    1\n",
       "9959     1\n",
       "30760    1\n",
       "5399     1\n",
       "9295     1\n",
       "11900    1\n",
       "        ..\n",
       "7499     1\n",
       "6295     1\n",
       "11595    1\n",
       "7126     1\n",
       "22470    1\n",
       "6938     1\n",
       "22018    1\n",
       "17710    1\n",
       "36880    1\n",
       "11199    1\n",
       "16925    1\n",
       "35550    1\n",
       "16558    1\n",
       "7099     1\n",
       "10595    1\n",
       "7349     1\n",
       "6849     1\n",
       "28176    1\n",
       "24565    1\n",
       "16695    1\n",
       "17199    1\n",
       "8499     1\n",
       "6095     1\n",
       "6377     1\n",
       "14399    1\n",
       "7799     1\n",
       "36000    1\n",
       "8778     1\n",
       "10795    1\n",
       "8249     1\n",
       "Name: price, Length: 187, dtype: int64"
      ]
     },
     "execution_count": 6,
     "metadata": {},
     "output_type": "execute_result"
    }
   ],
   "source": [
    "cars[\"price\"].value_counts()"
   ]
  },
  {
   "cell_type": "code",
   "execution_count": 7,
   "metadata": {},
   "outputs": [
    {
     "data": {
      "text/plain": [
       "18150    2\n",
       "7609     2\n",
       "7775     2\n",
       "7957     2\n",
       "5572     2\n",
       "9279     2\n",
       "6229     2\n",
       "7898     2\n",
       "8495     2\n",
       "6692     2\n",
       "8921     2\n",
       "7295     2\n",
       "8845     2\n",
       "16500    2\n",
       "13499    2\n",
       "13845    1\n",
       "11845    1\n",
       "9960     1\n",
       "13645    1\n",
       "22625    1\n",
       "7603     1\n",
       "12764    1\n",
       "30760    1\n",
       "9959     1\n",
       "15040    1\n",
       "9295     1\n",
       "11900    1\n",
       "8449     1\n",
       "9095     1\n",
       "8189     1\n",
       "        ..\n",
       "18399    1\n",
       "7499     1\n",
       "6295     1\n",
       "11595    1\n",
       "7126     1\n",
       "22470    1\n",
       "6938     1\n",
       "11199    1\n",
       "17199    1\n",
       "10795    1\n",
       "24565    1\n",
       "16430    1\n",
       "35550    1\n",
       "16558    1\n",
       "7099     1\n",
       "10595    1\n",
       "7349     1\n",
       "6849     1\n",
       "28176    1\n",
       "16925    1\n",
       "8778     1\n",
       "16695    1\n",
       "12940    1\n",
       "8499     1\n",
       "6095     1\n",
       "6377     1\n",
       "14399    1\n",
       "7799     1\n",
       "36000    1\n",
       "8249     1\n",
       "Name: price, Length: 186, dtype: int64"
      ]
     },
     "execution_count": 7,
     "metadata": {},
     "output_type": "execute_result"
    }
   ],
   "source": [
    "cars = cars[cars[\"price\"] != \"?\"]\n",
    "\n",
    "cars[\"price\"].value_counts()"
   ]
  },
  {
   "cell_type": "code",
   "execution_count": 8,
   "metadata": {},
   "outputs": [
    {
     "data": {
      "text/plain": [
       "symbolling             int64\n",
       "normalized_looses     object\n",
       "make                  object\n",
       "fuel_type             object\n",
       "aspiration            object\n",
       "num_of_doors          object\n",
       "body_type             object\n",
       "drive_wheels          object\n",
       "engine_location       object\n",
       "wheel_base           float64\n",
       "lenght               float64\n",
       "width                float64\n",
       "height               float64\n",
       "curb_weight            int64\n",
       "engine_type           object\n",
       "num_cylinders         object\n",
       "engine_size            int64\n",
       "fuel_system           object\n",
       "bore                  object\n",
       "stroke                object\n",
       "compresion_ratio     float64\n",
       "horsepower_power      object\n",
       "peak_rpm              object\n",
       "city_mpg               int64\n",
       "highway_mpg            int64\n",
       "price                 object\n",
       "dtype: object"
      ]
     },
     "execution_count": 8,
     "metadata": {},
     "output_type": "execute_result"
    }
   ],
   "source": [
    "cars.dtypes"
   ]
  },
  {
   "cell_type": "code",
   "execution_count": 9,
   "metadata": {},
   "outputs": [],
   "source": [
    "cars[\"price\"]= cars[\"price\"].astype(int)"
   ]
  },
  {
   "cell_type": "code",
   "execution_count": 10,
   "metadata": {},
   "outputs": [
    {
     "data": {
      "text/plain": [
       "symbolling             int64\n",
       "normalized_looses     object\n",
       "make                  object\n",
       "fuel_type             object\n",
       "aspiration            object\n",
       "num_of_doors          object\n",
       "body_type             object\n",
       "drive_wheels          object\n",
       "engine_location       object\n",
       "wheel_base           float64\n",
       "lenght               float64\n",
       "width                float64\n",
       "height               float64\n",
       "curb_weight            int64\n",
       "engine_type           object\n",
       "num_cylinders         object\n",
       "engine_size            int64\n",
       "fuel_system           object\n",
       "bore                  object\n",
       "stroke                object\n",
       "compresion_ratio     float64\n",
       "horsepower_power      object\n",
       "peak_rpm              object\n",
       "city_mpg               int64\n",
       "highway_mpg            int64\n",
       "price                  int32\n",
       "dtype: object"
      ]
     },
     "execution_count": 10,
     "metadata": {},
     "output_type": "execute_result"
    }
   ],
   "source": [
    "cars.dtypes"
   ]
  },
  {
   "cell_type": "code",
   "execution_count": 11,
   "metadata": {},
   "outputs": [
    {
     "data": {
      "text/plain": [
       "<matplotlib.axes._subplots.AxesSubplot at 0x904f860>"
      ]
     },
     "execution_count": 11,
     "metadata": {},
     "output_type": "execute_result"
    }
   ],
   "source": [
    "import matplotlib.pyplot as plt\n",
    "\n",
    "cars[\"price\"].plot.hist()"
   ]
  },
  {
   "cell_type": "code",
   "execution_count": 12,
   "metadata": {},
   "outputs": [
    {
     "data": {
      "text/plain": [
       "1.8096753390980749"
      ]
     },
     "execution_count": 12,
     "metadata": {},
     "output_type": "execute_result"
    }
   ],
   "source": [
    "cars[\"price\"].skew()"
   ]
  },
  {
   "cell_type": "code",
   "execution_count": 13,
   "metadata": {},
   "outputs": [
    {
     "data": {
      "text/plain": [
       "<matplotlib.axes._subplots.AxesSubplot at 0x93e7668>"
      ]
     },
     "execution_count": 13,
     "metadata": {},
     "output_type": "execute_result"
    },
    {
     "data": {
      "image/png": "[encoded data removed]",
      "text/plain": [
       "<Figure size 432x288 with 1 Axes>"
      ]
     },
     "metadata": {},
     "output_type": "display_data"
    }
   ],
   "source": [
    "cheapcars = cars[cars[\"price\"] < 22000]\n",
    "cheapcars[\"price\"].plot.hist()"
   ]
  },
  {
   "cell_type": "code",
   "execution_count": 14,
   "metadata": {},
   "outputs": [
    {
     "data": {
      "text/plain": [
       "0.6713442432673241"
      ]
     },
     "execution_count": 14,
     "metadata": {},
     "output_type": "execute_result"
    }
   ],
   "source": [
    "cheapcars[\"price\"].skew()"
   ]
  },
  {
   "cell_type": "code",
   "execution_count": 15,
   "metadata": {},
   "outputs": [
    {
     "data": {
      "text/plain": [
       "symbolling             int64\n",
       "normalized_looses     object\n",
       "make                  object\n",
       "fuel_type             object\n",
       "aspiration            object\n",
       "num_of_doors          object\n",
       "body_type             object\n",
       "drive_wheels          object\n",
       "engine_location       object\n",
       "wheel_base           float64\n",
       "lenght               float64\n",
       "width                float64\n",
       "height               float64\n",
       "curb_weight            int64\n",
       "engine_type           object\n",
       "num_cylinders         object\n",
       "engine_size            int64\n",
       "fuel_system           object\n",
       "bore                  object\n",
       "stroke                object\n",
       "compresion_ratio     float64\n",
       "horsepower_power      object\n",
       "peak_rpm              object\n",
       "city_mpg               int64\n",
       "highway_mpg            int64\n",
       "price                  int32\n",
       "dtype: object"
      ]
     },
     "execution_count": 15,
     "metadata": {},
     "output_type": "execute_result"
    }
   ],
   "source": [
    "cars.dtypes\n"
   ]
  },
  {
   "cell_type": "code",
   "execution_count": 16,
   "metadata": {},
   "outputs": [
    {
     "data": {
      "text/plain": [
       "31    28\n",
       "19    27\n",
       "24    22\n",
       "27    14\n",
       "17    12\n",
       "26    12\n",
       "23    12\n",
       "21     8\n",
       "30     8\n",
       "25     8\n",
       "28     7\n",
       "37     6\n",
       "16     5\n",
       "38     5\n",
       "22     4\n",
       "15     3\n",
       "18     3\n",
       "29     3\n",
       "20     3\n",
       "14     2\n",
       "49     1\n",
       "47     1\n",
       "32     1\n",
       "33     1\n",
       "34     1\n",
       "35     1\n",
       "36     1\n",
       "45     1\n",
       "13     1\n",
       "Name: city_mpg, dtype: int64"
      ]
     },
     "execution_count": 16,
     "metadata": {},
     "output_type": "execute_result"
    }
   ],
   "source": [
    "cars[\"city_mpg\"].value_counts()"
   ]
  },
  {
   "cell_type": "code",
   "execution_count": 17,
   "metadata": {},
   "outputs": [
    {
     "data": {
      "text/plain": [
       "<matplotlib.axes._subplots.AxesSubplot at 0xb386dd8>"
      ]
     },
     "execution_count": 17,
     "metadata": {},
     "output_type": "execute_result"
    },
    {
     "data": {
      "image/png": "[encoded data removed]",
      "text/plain": [
       "<Figure size 432x288 with 1 Axes>"
      ]
     },
     "metadata": {},
     "output_type": "display_data"
    }
   ],
   "source": [
    "import seaborn as sns\n",
    "\n",
    " \n",
    "# use the function regplot to make a scatterplot\n",
    "sns.regplot(x=cars[\"city_mpg\"], y=cars[\"price\"])\n",
    "\n",
    " \n",
    "\n"
   ]
  },
  {
   "cell_type": "code",
   "execution_count": 18,
   "metadata": {},
   "outputs": [
    {
     "data": {
      "text/plain": [
       "symbolling         -0.082391\n",
       "wheel_base          0.584642\n",
       "lenght              0.690628\n",
       "width               0.751265\n",
       "height              0.135486\n",
       "curb_weight         0.834415\n",
       "engine_size         0.872335\n",
       "compresion_ratio    0.071107\n",
       "city_mpg           -0.686571\n",
       "highway_mpg        -0.704692\n",
       "price               1.000000\n",
       "Name: price, dtype: float64"
      ]
     },
     "execution_count": 18,
     "metadata": {},
     "output_type": "execute_result"
    }
   ],
   "source": [
    "a = cars.corr()\n",
    "a = a[\"price\"]\n",
    "a"
   ]
  },
  {
   "cell_type": "code",
   "execution_count": 19,
   "metadata": {},
   "outputs": [
    {
     "data": {
      "text/plain": [
       "<matplotlib.axes._subplots.AxesSubplot at 0xb6a69b0>"
      ]
     },
     "execution_count": 19,
     "metadata": {},
     "output_type": "execute_result"
    },
    {
     "data": {
      "image/png": "[encoded data removed]",
      "text/plain": [
       "<Figure size 432x288 with 1 Axes>"
      ]
     },
     "metadata": {},
     "output_type": "display_data"
    }
   ],
   "source": [
    "sns.regplot(x=cars[\"engine_size\"], y=cars[\"price\"])"
   ]
  },
  {
   "cell_type": "code",
   "execution_count": 20,
   "metadata": {},
   "outputs": [
    {
     "data": {
      "text/plain": [
       "<matplotlib.axes._subplots.AxesSubplot at 0xb711b00>"
      ]
     },
     "execution_count": 20,
     "metadata": {},
     "output_type": "execute_result"
    },
    {
     "data": {
      "image/png": "[encoded data removed]",
      "text/plain": [
       "<Figure size 432x288 with 1 Axes>"
      ]
     },
     "metadata": {},
     "output_type": "display_data"
    }
   ],
   "source": [
    "sns.regplot(x=cars[\"curb_weight\"], y=cars[\"price\"])       "
   ]
  },
  {
   "cell_type": "code",
   "execution_count": 21,
   "metadata": {},
   "outputs": [
    {
     "data": {
      "text/plain": [
       "array([13108.85152621, 13108.85152621, 16634.03445191, 10404.07480868,\n",
       "       16646.85329891, 12583.27879911, 16903.23023896, 18313.30340924,\n",
       "       20005.39121357, 11147.56793483, 11147.56793483, 15185.50474062,\n",
       "       15890.54132576, 19608.0069565 , 21851.30518194, 23774.13223232,\n",
       "       25376.48810763,  -479.12629647,  4468.94864651,  4917.6082916 ,\n",
       "        4494.58634052,  4494.58634052,  7724.93578515,  5661.10141775,\n",
       "        5943.1160518 ,  5943.1160518 ,  8532.52314631, 12942.20651518,\n",
       "       16480.20828788,  2405.1142791 ,  3763.91206137,  3994.65130742,\n",
       "        5314.99254868,  5520.09410072,  6212.31183885,  6391.77569689,\n",
       "        9109.37126143,  9788.77015256,  9981.0528576 , 10852.73445377,\n",
       "       12044.887225  ,  9840.04554057, 10404.07480868, 15493.15706868,\n",
       "       32567.86127605, 32567.86127605, 31080.87502376,  4674.05019855,\n",
       "        4802.23866858,  4866.33290359,  5379.08678369,  5443.1810187 ,\n",
       "       10955.28522979, 10955.28522979, 11019.3794648 , 12493.54687009,\n",
       "       11019.3794648 , 11339.85063987, 11019.3794648 , 11339.85063987,\n",
       "       11762.87259095, 11532.1333449 , 14672.75086052, 15057.3162706 ,\n",
       "       25504.67657766, 28517.10562325, 25248.29963761, 28773.4825633 ,\n",
       "       28388.91715323, 27683.88056809, 30439.93267363, 28068.44597816,\n",
       "       17749.27414113,  5032.97791462,  5366.26793669,  6135.39875684,\n",
       "        7942.8561842 , 10827.09675976, 10288.70518566, 16762.22292193,\n",
       "       17890.28145816, 17954.37569317, 10763.00252475, 11275.75640485,\n",
       "       11250.11871085, 11250.11871085,  4661.23135155,  6302.04376787,\n",
       "        5032.97791462,  5289.35485467,  6391.77569689,  5455.99986571,\n",
       "        6443.0510849 ,  5712.37680576,  6558.42070792,  6186.67414485,\n",
       "       10237.42979765,  9955.41516359, 20120.7608366 , 22697.34908411,\n",
       "       19672.10119151, 19813.10850854, 20684.79010471, 20684.79010471,\n",
       "       19159.34731141, 21428.28323086, 21851.30518194, 24415.07458244,\n",
       "       19864.38389655, 22133.31981599, 22556.34176708, 25120.11116758,\n",
       "       19864.38389655, 22133.31981599, 20569.42048169,  5032.97791462,\n",
       "        7724.93578515,  5661.10141775,  5943.1160518 ,  8532.52314631,\n",
       "       12942.20651518, 16569.9402169 , 16057.1863368 , 15775.17170274,\n",
       "       15775.17170274, 16339.20097085, 13506.23578329, 11980.79298999,\n",
       "       14518.92469649, 14993.22203559, 15147.04819962, 15800.80939675,\n",
       "       16441.75174687, 16941.68677997,  6725.06571896,  7622.38500913,\n",
       "        9160.64664944,  7942.8561842 ,  8519.70429931, 10442.53134969,\n",
       "       11019.3794648 , 12621.73534012,  9801.58899956, 11916.69875498,\n",
       "       11468.03910989, 14416.37392047,  5891.84066379,  6596.87724893,\n",
       "        6276.40607387,  9673.40052954,  9801.58899956, 20313.04354164,\n",
       "        7122.44997603,  7481.3776921 ,  9609.30629452,  9609.30629452,\n",
       "        7289.09498707,  7648.02270314,  7878.76194918,  8250.50851226,\n",
       "        8699.16815734,  9481.1178245 ,  9929.77746959, 13006.30075019,\n",
       "       12955.02536218, 13147.30806722, 14788.12048355, 15236.78012863,\n",
       "       18582.49919629, 10263.06749165, 12237.16993004, 11391.12602788,\n",
       "       11391.12602788, 11955.15529599, 18595.3180433 , 19108.0719234 ,\n",
       "       20582.23932869, 20838.61626874,  9429.84243649,  8763.26239236,\n",
       "        9468.2989775 ,  8801.71893336,  9609.30629452, 10173.33556264,\n",
       "        9929.77746959,  9340.11050747,  8917.08855639, 14557.3812375 ,\n",
       "       13506.23578329, 13301.13423125, 17774.91183513, 19338.81116944,\n",
       "       18069.74531619, 19441.36194546, 19479.81848647, 20915.52935075,\n",
       "       18287.66571524, 19531.09387448, 19056.79653539, 21684.66017091,\n",
       "       19697.73888551])"
      ]
     },
     "execution_count": 21,
     "metadata": {},
     "output_type": "execute_result"
    }
   ],
   "source": [
    "from sklearn.linear_model import LinearRegression\n",
    "\n",
    "lm = LinearRegression()\n",
    "\n",
    "x=cars[[\"curb_weight\"]]\n",
    "y=cars[\"price\"]\n",
    "\n",
    "lm.fit(x,y)\n",
    "\n",
    "yhat = lm.predict(x)\n",
    "\n",
    "yhat"
   ]
  },
  {
   "cell_type": "code",
   "execution_count": 22,
   "metadata": {},
   "outputs": [
    {
     "data": {
      "text/plain": [
       "-19553.570636227465"
      ]
     },
     "execution_count": 22,
     "metadata": {},
     "output_type": "execute_result"
    }
   ],
   "source": [
    "lm.intercept_"
   ]
  },
  {
   "cell_type": "code",
   "execution_count": 23,
   "metadata": {},
   "outputs": [
    {
     "data": {
      "text/plain": [
       "array([12.818847])"
      ]
     },
     "execution_count": 23,
     "metadata": {},
     "output_type": "execute_result"
    }
   ],
   "source": [
    "lm.coef_"
   ]
  },
  {
   "cell_type": "code",
   "execution_count": 24,
   "metadata": {},
   "outputs": [
    {
     "data": {
      "text/plain": [
       "<matplotlib.axes._subplots.AxesSubplot at 0xc518f60>"
      ]
     },
     "execution_count": 24,
     "metadata": {},
     "output_type": "execute_result"
    },
    {
     "data": {
      "image/png": "[encoded data removed]",
      "text/plain": [
       "<Figure size 432x288 with 1 Axes>"
      ]
     },
     "metadata": {},
     "output_type": "display_data"
    }
   ],
   "source": [
    "ax1 = sns.distplot(cars[\"price\"],hist=False, color=\"red\",label=\"Real values\")\n",
    "\n",
    "sns.distplot(yhat,hist=False,color=\"b\", label=\"FItted values\",ax=ax1)"
   ]
  },
  {
   "cell_type": "code",
   "execution_count": 25,
   "metadata": {},
   "outputs": [
    {
     "name": "stdout",
     "output_type": "stream",
     "text": [
      "DataFrame shape = (201, 26) \n",
      " \n",
      " -------------------------------------------------------- \n",
      "\n",
      "<class 'pandas.core.frame.DataFrame'>\n",
      "Int64Index: 201 entries, 0 to 204\n",
      "Data columns (total 26 columns):\n",
      "symbolling           201 non-null int64\n",
      "normalized_looses    201 non-null object\n",
      "make                 201 non-null object\n",
      "fuel_type            201 non-null object\n",
      "aspiration           201 non-null object\n",
      "num_of_doors         201 non-null object\n",
      "body_type            201 non-null object\n",
      "drive_wheels         201 non-null object\n",
      "engine_location      201 non-null object\n",
      "wheel_base           201 non-null float64\n",
      "lenght               201 non-null float64\n",
      "width                201 non-null float64\n",
      "height               201 non-null float64\n",
      "curb_weight          201 non-null int64\n",
      "engine_type          201 non-null object\n",
      "num_cylinders        201 non-null object\n",
      "engine_size          201 non-null int64\n",
      "fuel_system          201 non-null object\n",
      "bore                 201 non-null object\n",
      "stroke               201 non-null object\n",
      "compresion_ratio     201 non-null float64\n",
      "horsepower_power     201 non-null object\n",
      "peak_rpm             201 non-null object\n",
      "city_mpg             201 non-null int64\n",
      "highway_mpg          201 non-null int64\n",
      "price                201 non-null int32\n",
      "dtypes: float64(5), int32(1), int64(5), object(15)\n",
      "memory usage: 41.6+ KB\n",
      "None \n",
      " \n",
      " -------------------------------------------------------- \n",
      "\n"
     ]
    },
    {
     "data": {
      "text/html": [
       "<div>\n",
       "<style scoped>\n",
       "    .dataframe tbody tr th:only-of-type {\n",
       "        vertical-align: middle;\n",
       "    }\n",
       "\n",
       "    .dataframe tbody tr th {\n",
       "        vertical-align: top;\n",
       "    }\n",
       "\n",
       "    .dataframe thead th {\n",
       "        text-align: right;\n",
       "    }\n",
       "</style>\n",
       "<table border=\"1\" class=\"dataframe\">\n",
       "  <thead>\n",
       "    <tr style=\"text-align: right;\">\n",
       "      <th></th>\n",
       "      <th>symbolling</th>\n",
       "      <th>normalized_looses</th>\n",
       "      <th>make</th>\n",
       "      <th>fuel_type</th>\n",
       "      <th>aspiration</th>\n",
       "      <th>num_of_doors</th>\n",
       "      <th>body_type</th>\n",
       "      <th>drive_wheels</th>\n",
       "      <th>engine_location</th>\n",
       "      <th>wheel_base</th>\n",
       "      <th>...</th>\n",
       "      <th>engine_size</th>\n",
       "      <th>fuel_system</th>\n",
       "      <th>bore</th>\n",
       "      <th>stroke</th>\n",
       "      <th>compresion_ratio</th>\n",
       "      <th>horsepower_power</th>\n",
       "      <th>peak_rpm</th>\n",
       "      <th>city_mpg</th>\n",
       "      <th>highway_mpg</th>\n",
       "      <th>price</th>\n",
       "    </tr>\n",
       "  </thead>\n",
       "  <tbody>\n",
       "    <tr>\n",
       "      <th>0</th>\n",
       "      <td>3</td>\n",
       "      <td>?</td>\n",
       "      <td>alfa-romero</td>\n",
       "      <td>gas</td>\n",
       "      <td>std</td>\n",
       "      <td>two</td>\n",
       "      <td>convertible</td>\n",
       "      <td>rwd</td>\n",
       "      <td>front</td>\n",
       "      <td>88.6</td>\n",
       "      <td>...</td>\n",
       "      <td>130</td>\n",
       "      <td>mpfi</td>\n",
       "      <td>3.47</td>\n",
       "      <td>2.68</td>\n",
       "      <td>9.0</td>\n",
       "      <td>111</td>\n",
       "      <td>5000</td>\n",
       "      <td>21</td>\n",
       "      <td>27</td>\n",
       "      <td>13495</td>\n",
       "    </tr>\n",
       "    <tr>\n",
       "      <th>1</th>\n",
       "      <td>3</td>\n",
       "      <td>?</td>\n",
       "      <td>alfa-romero</td>\n",
       "      <td>gas</td>\n",
       "      <td>std</td>\n",
       "      <td>two</td>\n",
       "      <td>convertible</td>\n",
       "      <td>rwd</td>\n",
       "      <td>front</td>\n",
       "      <td>88.6</td>\n",
       "      <td>...</td>\n",
       "      <td>130</td>\n",
       "      <td>mpfi</td>\n",
       "      <td>3.47</td>\n",
       "      <td>2.68</td>\n",
       "      <td>9.0</td>\n",
       "      <td>111</td>\n",
       "      <td>5000</td>\n",
       "      <td>21</td>\n",
       "      <td>27</td>\n",
       "      <td>16500</td>\n",
       "    </tr>\n",
       "    <tr>\n",
       "      <th>2</th>\n",
       "      <td>1</td>\n",
       "      <td>?</td>\n",
       "      <td>alfa-romero</td>\n",
       "      <td>gas</td>\n",
       "      <td>std</td>\n",
       "      <td>two</td>\n",
       "      <td>hatchback</td>\n",
       "      <td>rwd</td>\n",
       "      <td>front</td>\n",
       "      <td>94.5</td>\n",
       "      <td>...</td>\n",
       "      <td>152</td>\n",
       "      <td>mpfi</td>\n",
       "      <td>2.68</td>\n",
       "      <td>3.47</td>\n",
       "      <td>9.0</td>\n",
       "      <td>154</td>\n",
       "      <td>5000</td>\n",
       "      <td>19</td>\n",
       "      <td>26</td>\n",
       "      <td>16500</td>\n",
       "    </tr>\n",
       "    <tr>\n",
       "      <th>3</th>\n",
       "      <td>2</td>\n",
       "      <td>164</td>\n",
       "      <td>audi</td>\n",
       "      <td>gas</td>\n",
       "      <td>std</td>\n",
       "      <td>four</td>\n",
       "      <td>sedan</td>\n",
       "      <td>fwd</td>\n",
       "      <td>front</td>\n",
       "      <td>99.8</td>\n",
       "      <td>...</td>\n",
       "      <td>109</td>\n",
       "      <td>mpfi</td>\n",
       "      <td>3.19</td>\n",
       "      <td>3.40</td>\n",
       "      <td>10.0</td>\n",
       "      <td>102</td>\n",
       "      <td>5500</td>\n",
       "      <td>24</td>\n",
       "      <td>30</td>\n",
       "      <td>13950</td>\n",
       "    </tr>\n",
       "    <tr>\n",
       "      <th>4</th>\n",
       "      <td>2</td>\n",
       "      <td>164</td>\n",
       "      <td>audi</td>\n",
       "      <td>gas</td>\n",
       "      <td>std</td>\n",
       "      <td>four</td>\n",
       "      <td>sedan</td>\n",
       "      <td>4wd</td>\n",
       "      <td>front</td>\n",
       "      <td>99.4</td>\n",
       "      <td>...</td>\n",
       "      <td>136</td>\n",
       "      <td>mpfi</td>\n",
       "      <td>3.19</td>\n",
       "      <td>3.40</td>\n",
       "      <td>8.0</td>\n",
       "      <td>115</td>\n",
       "      <td>5500</td>\n",
       "      <td>18</td>\n",
       "      <td>22</td>\n",
       "      <td>17450</td>\n",
       "    </tr>\n",
       "  </tbody>\n",
       "</table>\n",
       "<p>5 rows × 26 columns</p>\n",
       "</div>"
      ],
      "text/plain": [
       "   symbolling normalized_looses         make fuel_type aspiration  \\\n",
       "0           3                 ?  alfa-romero       gas        std   \n",
       "1           3                 ?  alfa-romero       gas        std   \n",
       "2           1                 ?  alfa-romero       gas        std   \n",
       "3           2               164         audi       gas        std   \n",
       "4           2               164         audi       gas        std   \n",
       "\n",
       "  num_of_doors    body_type drive_wheels engine_location  wheel_base  ...    \\\n",
       "0          two  convertible          rwd           front        88.6  ...     \n",
       "1          two  convertible          rwd           front        88.6  ...     \n",
       "2          two    hatchback          rwd           front        94.5  ...     \n",
       "3         four        sedan          fwd           front        99.8  ...     \n",
       "4         four        sedan          4wd           front        99.4  ...     \n",
       "\n",
       "   engine_size  fuel_system  bore  stroke compresion_ratio horsepower_power  \\\n",
       "0          130         mpfi  3.47    2.68              9.0              111   \n",
       "1          130         mpfi  3.47    2.68              9.0              111   \n",
       "2          152         mpfi  2.68    3.47              9.0              154   \n",
       "3          109         mpfi  3.19    3.40             10.0              102   \n",
       "4          136         mpfi  3.19    3.40              8.0              115   \n",
       "\n",
       "   peak_rpm city_mpg highway_mpg  price  \n",
       "0      5000       21          27  13495  \n",
       "1      5000       21          27  16500  \n",
       "2      5000       19          26  16500  \n",
       "3      5500       24          30  13950  \n",
       "4      5500       18          22  17450  \n",
       "\n",
       "[5 rows x 26 columns]"
      ]
     },
     "execution_count": 25,
     "metadata": {},
     "output_type": "execute_result"
    }
   ],
   "source": [
    "info(cars)"
   ]
  },
  {
   "cell_type": "code",
   "execution_count": 26,
   "metadata": {},
   "outputs": [],
   "source": [
    "cars[\"engine_size\"] = cars[\"engine_size\"].astype(int)\n",
    "cars= cars[cars[\"horsepower_power\"] != \"?\"]\n",
    "\n",
    "cars[\"horsepower_power\"] = cars[\"horsepower_power\"].astype(int)"
   ]
  },
  {
   "cell_type": "code",
   "execution_count": 27,
   "metadata": {},
   "outputs": [
    {
     "data": {
      "text/plain": [
       "symbolling             int64\n",
       "normalized_looses     object\n",
       "make                  object\n",
       "fuel_type             object\n",
       "aspiration            object\n",
       "num_of_doors          object\n",
       "body_type             object\n",
       "drive_wheels          object\n",
       "engine_location       object\n",
       "wheel_base           float64\n",
       "lenght               float64\n",
       "width                float64\n",
       "height               float64\n",
       "curb_weight            int64\n",
       "engine_type           object\n",
       "num_cylinders         object\n",
       "engine_size            int32\n",
       "fuel_system           object\n",
       "bore                  object\n",
       "stroke                object\n",
       "compresion_ratio     float64\n",
       "horsepower_power       int32\n",
       "peak_rpm              object\n",
       "city_mpg               int64\n",
       "highway_mpg            int64\n",
       "price                  int32\n",
       "dtype: object"
      ]
     },
     "execution_count": 27,
     "metadata": {},
     "output_type": "execute_result"
    }
   ],
   "source": [
    "cars.dtypes"
   ]
  },
  {
   "cell_type": "code",
   "execution_count": 28,
   "metadata": {},
   "outputs": [
    {
     "data": {
      "text/plain": [
       "LinearRegression(copy_X=True, fit_intercept=True, n_jobs=None, normalize=False)"
      ]
     },
     "execution_count": 28,
     "metadata": {},
     "output_type": "execute_result"
    }
   ],
   "source": [
    "z = cars[[\"horsepower_power\",\"curb_weight\",\"engine_size\",\"highway_mpg\"]]\n",
    "y = cars[\"price\"]\n",
    "\n",
    "lm.fit(z,y)"
   ]
  },
  {
   "cell_type": "code",
   "execution_count": 29,
   "metadata": {},
   "outputs": [
    {
     "data": {
      "text/plain": [
       "array([13741.39845627, 13741.39845627, 19088.01516843, 10657.90424705,\n",
       "       15557.06262444, 13919.31226826, 15490.46493163, 16003.3040799 ,\n",
       "       17628.33928255, 10757.28448941, 10757.28448941, 17860.77855061,\n",
       "       18117.19812475, 19362.67585307, 27022.3362595 , 27721.66237079,\n",
       "       28233.3989612 ,   692.55325105,  5693.76491579,  5856.94100842,\n",
       "        5525.49652381,  5418.9437703 ,  8778.98554196,  5843.20161115,\n",
       "        5945.76944081,  5945.76944081,  9072.70250871, 11904.09500729,\n",
       "       18810.44277621,  4858.96186031,  5743.88910041,  4048.43471151,\n",
       "        6165.94182551,  6240.53661071,  6492.29401078,  6557.56444783,\n",
       "        9523.34633387,  9770.44155986,  9840.37417099, 10157.4020081 ,\n",
       "       11212.57805806, 10463.95808505,  9508.15477689, 12656.21918307,\n",
       "       34522.93303266, 34522.93303266, 44084.66613744,  5317.82059978,\n",
       "        5613.06543205,  5636.37630243,  5822.86326544,  5846.17413581,\n",
       "        7349.5259815 ,  7349.5259815 ,  7372.83685187, 10542.76041912,\n",
       "       11062.68892275, 11179.24327463, 11062.68892275, 11179.24327463,\n",
       "       10622.69515285, 11249.17588576, 15611.98760294, 13127.30522849,\n",
       "       23176.1936937 , 24271.80460139, 23082.9502122 , 24365.04808289,\n",
       "       29875.18458818, 29618.76501404, 38180.16386423, 36988.74372455,\n",
       "       19554.68983352,  5885.76680285,  5900.4305753 ,  6180.16101982,\n",
       "        8858.24250124, 11639.88847337, 11010.06014271, 18913.01060587,\n",
       "       19323.28192449, 19346.59279487, 11182.5605835 , 11369.04754651,\n",
       "       11793.74021785, 11793.74021785,  6072.91962193,  6878.88040784,\n",
       "        6208.12267011,  6301.36615162,  6702.31312209,  6361.9744146 ,\n",
       "        6720.96181839,  6455.2178961 ,  6762.92138507,  6627.71833689,\n",
       "       11377.49671761, 11274.92888796, 22492.15364206, 23429.25063119,\n",
       "       22435.53030293, 22913.04450227, 25290.18859295, 23230.07233939,\n",
       "       14267.19402898, 17936.84301581, 15246.25058478, 18738.98889933,\n",
       "       14417.05603199, 18193.26258995, 15396.11258779, 18995.40847347,\n",
       "       14523.61360312, 18193.26258995, 18328.79130282,  5721.30783497,\n",
       "        8778.98554196,  5843.20161115,  5945.76944081,  7545.36447554,\n",
       "       11904.09500729, 18843.07799474, 18245.4387944 , 25017.54588132,\n",
       "       25017.54588132, 25222.68154063, 13496.41104801, 13668.9114888 ,\n",
       "       13724.8575777 , 13962.62845554, 16788.6412685 , 16970.46605744,\n",
       "        6788.01206355,  8054.41579192,  8613.87668095,  8863.58472089,\n",
       "        8931.31221627, 10234.46616982,  9556.29548493, 11826.2223637 ,\n",
       "        9362.01203929, 10735.09860398,  9861.54191557, 12265.82122723,\n",
       "        5807.42458351,  6028.32657314,  5911.77222126,  7111.7307667 ,\n",
       "        6980.76458495, 10803.74732666,  7103.56531389,  7234.106188  ,\n",
       "        8213.36030939,  8604.05373891,  7519.34942189,  7188.16169747,\n",
       "        7272.08083082,  7407.28387901,  7570.45997164,  9914.97366141,\n",
       "       10078.14975405, 15392.71948805, 15374.07079175, 15444.00340288,\n",
       "       16040.76168451, 16203.93777715, 17420.76521079, 11284.88610582,\n",
       "        9968.2925959 , 11624.12225544, 11624.12225544, 11829.25791475,\n",
       "       21665.60432677, 21852.09128978, 22121.84738062, 21392.79602271,\n",
       "        7221.16728386,  9297.47694883,  7235.15380608,  9311.46347106,\n",
       "        9605.1804378 ,  8201.96361124, 10449.88140414,  9596.08078753,\n",
       "        9442.22904305, 14601.76949135,  9272.0585328 , 11001.17017466,\n",
       "       16538.30808421, 17107.09332139, 16645.53808794, 17144.390714  ,\n",
       "       18598.12911293, 19120.29260936, 16724.79504722, 19521.29731497,\n",
       "       20523.85676663, 17827.44124392, 17131.081442  ])"
      ]
     },
     "execution_count": 29,
     "metadata": {},
     "output_type": "execute_result"
    }
   ],
   "source": [
    "yhat = lm.predict(z)\n",
    "yhat\n"
   ]
  },
  {
   "cell_type": "code",
   "execution_count": 30,
   "metadata": {},
   "outputs": [
    {
     "data": {
      "text/plain": [
       "<matplotlib.axes._subplots.AxesSubplot at 0xc5d1438>"
      ]
     },
     "execution_count": 30,
     "metadata": {},
     "output_type": "execute_result"
    },
    {
     "data": {
      "image/png": "[encoded data removed]",
      "text/plain": [
       "<Figure size 432x288 with 1 Axes>"
      ]
     },
     "metadata": {},
     "output_type": "display_data"
    }
   ],
   "source": [
    "ax1 = sns.distplot(cars[\"price\"],hist=False, color=\"red\",label=\"Real values\")\n",
    "\n",
    "sns.distplot(yhat,hist=False,color=\"b\", label=\"FItted values\",ax=ax1)"
   ]
  },
  {
   "cell_type": "code",
   "execution_count": 31,
   "metadata": {},
   "outputs": [
    {
     "data": {
      "text/plain": [
       "11941505.191703444"
      ]
     },
     "execution_count": 31,
     "metadata": {},
     "output_type": "execute_result"
    }
   ],
   "source": [
    "from sklearn.metrics import mean_squared_error\n",
    "\n",
    "mean_squared_error(cars[\"price\"],yhat)"
   ]
  },
  {
   "cell_type": "code",
   "execution_count": 32,
   "metadata": {},
   "outputs": [
    {
     "data": {
      "text/plain": [
       "0.8114693964258121"
      ]
     },
     "execution_count": 32,
     "metadata": {},
     "output_type": "execute_result"
    }
   ],
   "source": [
    "lm.score(z,y)"
   ]
  },
  {
   "cell_type": "code",
   "execution_count": 33,
   "metadata": {},
   "outputs": [
    {
     "name": "stdout",
     "output_type": "stream",
     "text": [
      "4491.620377335542\n",
      "0.6814857455818685\n"
     ]
    },
    {
     "data": {
      "text/plain": [
       "<matplotlib.axes._subplots.AxesSubplot at 0xc651400>"
      ]
     },
     "execution_count": 33,
     "metadata": {},
     "output_type": "execute_result"
    },
    {
     "data": {
      "image/png": "[encoded data removed]",
      "text/plain": [
       "<Figure size 432x288 with 1 Axes>"
      ]
     },
     "metadata": {},
     "output_type": "display_data"
    }
   ],
   "source": [
    "import operator\n",
    "import numpy as np\n",
    "from sklearn.linear_model import LinearRegression\n",
    "from sklearn.metrics import mean_squared_error, r2_score\n",
    "from sklearn.preprocessing import PolynomialFeatures\n",
    "\n",
    "x = cars[[\"highway_mpg\"]]\n",
    "y = cars[[\"price\"]]\n",
    "\n",
    "polynomial_features= PolynomialFeatures(degree=6)\n",
    "x_poly = polynomial_features.fit_transform(x)\n",
    "\n",
    "model = LinearRegression()\n",
    "model.fit(x_poly, y)\n",
    "y_poly_pred = model.predict(x_poly)\n",
    "\n",
    "rmse = np.sqrt(mean_squared_error(y,y_poly_pred))\n",
    "r2 = r2_score(y,y_poly_pred)\n",
    "print(rmse)\n",
    "print(r2)\n",
    "\n",
    "ax1 = sns.distplot(cars[\"price\"], hist=False, color=\"r\", label=\"Valor real\")\n",
    "\n",
    "\n",
    "sns.distplot(y_poly_pred, hist=False, color=\"b\", label=\"Valor predicho\",ax=ax1)"
   ]
  },
  {
   "cell_type": "code",
   "execution_count": 44,
   "metadata": {},
   "outputs": [
    {
     "name": "stdout",
     "output_type": "stream",
     "text": [
      "3028.081385845861\n",
      "0.855236900487597\n"
     ]
    },
    {
     "data": {
      "text/plain": [
       "<matplotlib.axes._subplots.AxesSubplot at 0x5cf7ef0>"
      ]
     },
     "execution_count": 44,
     "metadata": {},
     "output_type": "execute_result"
    },
    {
     "data": {
      "image/png": "[encoded data removed]",
      "text/plain": [
       "<Figure size 432x288 with 1 Axes>"
      ]
     },
     "metadata": {},
     "output_type": "display_data"
    }
   ],
   "source": [
    "\n",
    "from sklearn.linear_model import LinearRegression\n",
    "from sklearn.preprocessing import StandardScaler\n",
    "from sklearn.preprocessing import PolynomialFeatures\n",
    "from sklearn.pipeline import Pipeline\n",
    "\n",
    "input = [(\"scale\",StandardScaler()),(\"polynomial\",PolynomialFeatures(degree=6)),(\"model\",LinearRegression())]\n",
    "\n",
    "pipe = Pipeline(input)\n",
    "\n",
    "pipe.fit(cars[[\"horsepower_power\",\"engine_size\"]],cars[\"price\"])\n",
    "\n",
    "yhat = pipe.predict(cars[[\"horsepower_power\",\"engine_size\"]])\n",
    "\n",
    "\n",
    "ax1 = sns.distplot(cars[\"price\"], hist=False, color=\"r\", label=\"Valor real\")\n",
    "\n",
    "rmse = np.sqrt(mean_squared_error(y,yhat))\n",
    "r2 = r2_score(y,yhat)\n",
    "print(rmse)\n",
    "print(r2)\n",
    "\n",
    "sns.distplot(yhat, hist=False, color=\"b\", label=\"Valor predicho\",ax=ax1)\n",
    "\n",
    "\n"
   ]
  },
  {
   "cell_type": "code",
   "execution_count": null,
   "metadata": {},
   "outputs": [],
   "source": []
  }
 ],
 "metadata": {
  "kernelspec": {
   "display_name": "Python 3",
   "language": "python",
   "name": "python3"
  },
  "language_info": {
   "codemirror_mode": {
    "name": "ipython",
    "version": 3
   },
   "file_extension": ".py",
   "mimetype": "text/x-python",
   "name": "python",
   "nbconvert_exporter": "python",
   "pygments_lexer": "ipython3",
   "version": "3.6.5"
  }
 },
 "nbformat": 4,
 "nbformat_minor": 2
}
